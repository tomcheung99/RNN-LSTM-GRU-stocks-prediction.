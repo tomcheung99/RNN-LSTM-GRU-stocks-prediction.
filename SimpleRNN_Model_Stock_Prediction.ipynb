{
 "cells": [
  {
   "cell_type": "code",
   "execution_count": 63,
   "id": "aboriginal-vitamin",
   "metadata": {},
   "outputs": [],
   "source": [
    "\n",
    "# Import modules and packages\n",
    "import numpy as np\n",
    "import pandas as pd\n",
    "import matplotlib.pyplot as plt\n",
    "import datetime as dt\n",
    "from datetime import datetime\n",
    "\n",
    "from keras.callbacks import EarlyStopping, ReduceLROnPlateau, ModelCheckpoint, TensorBoard\n",
    "\n",
    "%matplotlib inline"
   ]
  },
  {
   "cell_type": "code",
   "execution_count": 64,
   "id": "constant-wallpaper",
   "metadata": {},
   "outputs": [
    {
     "name": "stdout",
     "output_type": "stream",
     "text": [
      "Training set shape == (1260, 7)\n",
      "All timestamps == 1260\n",
      "Featured selected: ['Open', 'High', 'Low', 'Close', 'Adj Close']\n"
     ]
    }
   ],
   "source": [
    "dataset_train = pd.read_csv('AMD_Dataset/AMD2010-2021.csv')\n",
    "\n",
    "cols = list(dataset_train)[1:6]\n",
    "# Select features (columns) to be involved intro training and predictions\n",
    "cols = list(dataset_train)[1:6]\n",
    "\n",
    "# Extract dates (will be used in visualization)\n",
    "datelist_train = list(dataset_train['Date'])\n",
    "datelist_train = [dt.datetime.strptime(date, '%Y-%m-%d').date() for date in datelist_train]\n",
    "\n",
    "print('Training set shape == {}'.format(dataset_train.shape))\n",
    "print('All timestamps == {}'.format(len(datelist_train)))\n",
    "print('Featured selected: {}'.format(cols))"
   ]
  },
  {
   "cell_type": "code",
   "execution_count": 65,
   "id": "nonprofit-japan",
   "metadata": {},
   "outputs": [
    {
     "name": "stdout",
     "output_type": "stream",
     "text": [
      "Shape of training set == (1260, 5).\n"
     ]
    },
    {
     "data": {
      "text/plain": [
       "array([[ 2.77    ,  2.82    ,  2.63    ,  2.77    ,  2.77    ],\n",
       "       [ 2.77    ,  2.8     ,  2.64    ,  2.75    ,  2.75    ],\n",
       "       [ 2.66    ,  2.71    ,  2.47    ,  2.51    ,  2.51    ],\n",
       "       ...,\n",
       "       [90.779999, 92.849998, 90.190002, 92.290001, 92.290001],\n",
       "       [92.099998, 92.300003, 90.870003, 91.709999, 91.709999],\n",
       "       [92.110001, 96.059998, 90.919998, 92.300003, 92.300003]])"
      ]
     },
     "execution_count": 65,
     "metadata": {},
     "output_type": "execute_result"
    }
   ],
   "source": [
    "dataset_train = dataset_train[cols].astype(str)\n",
    "for i in cols:\n",
    "    for j in range(0, len(dataset_train)):\n",
    "        dataset_train[i][j] = dataset_train[i][j].replace(',', '')\n",
    "\n",
    "dataset_train = dataset_train.astype(float)\n",
    "\n",
    "# Using multiple features (predictors)\n",
    "training_set = dataset_train.values\n",
    "\n",
    "print('Shape of training set == {}.'.format(training_set.shape))\n",
    "training_set"
   ]
  },
  {
   "cell_type": "code",
   "execution_count": 66,
   "id": "through-dublin",
   "metadata": {},
   "outputs": [
    {
     "data": {
      "text/plain": [
       "array([[-1.01233131],\n",
       "       [-1.01233131],\n",
       "       [-1.01708769],\n",
       "       ...,\n",
       "       [ 2.79320761],\n",
       "       [ 2.85028417],\n",
       "       [ 2.8507167 ]])"
      ]
     },
     "execution_count": 66,
     "metadata": {},
     "output_type": "execute_result"
    }
   ],
   "source": [
    "\n",
    "# Feature Scaling\n",
    "from sklearn.preprocessing import StandardScaler\n",
    "\n",
    "sc = StandardScaler()\n",
    "training_set_scaled = sc.fit_transform(training_set)\n",
    "\n",
    "sc_predict = StandardScaler()\n",
    "sc_predict.fit_transform(training_set[:, 0:1])"
   ]
  },
  {
   "cell_type": "code",
   "execution_count": 67,
   "id": "mexican-reduction",
   "metadata": {},
   "outputs": [
    {
     "name": "stdout",
     "output_type": "stream",
     "text": [
      "X_train shape == (1166, 90, 4).\n",
      "y_train shape == (1166, 1).\n"
     ]
    }
   ],
   "source": [
    "# Creating a data structure with 90 timestamps and 1 output\n",
    "X_train = []\n",
    "y_train = []\n",
    "\n",
    "n_future = 5   # Number of days we want top predict into the future\n",
    "n_past = 90     # Number of past days we want to use to predict the future\n",
    "\n",
    "for i in range(n_past, len(training_set_scaled) - n_future +1):\n",
    "    X_train.append(training_set_scaled[i - n_past:i, 0:dataset_train.shape[1] - 1])\n",
    "    y_train.append(training_set_scaled[i + n_future - 1:i + n_future, 0])\n",
    "\n",
    "X_train, y_train = np.array(X_train), np.array(y_train)\n",
    "\n",
    "print('X_train shape == {}.'.format(X_train.shape))\n",
    "print('y_train shape == {}.'.format(y_train.shape))"
   ]
  },
  {
   "cell_type": "code",
   "execution_count": 68,
   "id": "higher-bidder",
   "metadata": {},
   "outputs": [],
   "source": [
    "\n",
    "# Import Libraries and packages from Keras\n",
    "from keras.models import Sequential\n",
    "from keras.layers import Dense\n",
    "from keras.layers import SimpleRNN\n",
    "from keras.layers import Dropout\n",
    "from keras.optimizers import Adam"
   ]
  },
  {
   "cell_type": "code",
   "execution_count": 69,
   "id": "efficient-dimension",
   "metadata": {},
   "outputs": [],
   "source": [
    "\n",
    "# Initializing the Neural Network based on LSTM\n",
    "model = Sequential()\n",
    "\n",
    "# Adding 1st LSTM layer\n",
    "model.add(SimpleRNN(units=50, return_sequences=True, input_shape=(n_past, dataset_train.shape[1]-1)))\n",
    "\n",
    "# Adding 2nd LSTM layer\n",
    "model.add(SimpleRNN(units=50, return_sequences=True))\n",
    "\n",
    "model.add(SimpleRNN(units=50, return_sequences=True))\n",
    "\n",
    "\n",
    "model.add(SimpleRNN(units=50, return_sequences=False))\n",
    "\n",
    "\n",
    "# Adding Dropout\n",
    "model.add(Dropout(0.25))\n",
    "\n",
    "# Output layer\n",
    "model.add(Dense(units=1, activation='linear'))\n",
    "\n",
    "# Compiling the Neural Network\n",
    "model.compile(optimizer = Adam(learning_rate=0.001), loss='mean_squared_error')"
   ]
  },
  {
   "cell_type": "code",
   "execution_count": 70,
   "id": "weird-wales",
   "metadata": {},
   "outputs": [
    {
     "name": "stdout",
     "output_type": "stream",
     "text": [
      "Epoch 1/50\n",
      "2/4 [==============>...............] - ETA: 1s - loss: 0.9178WARNING:tensorflow:Callbacks method `on_train_batch_end` is slow compared to the batch time (batch time: 0.2724s vs `on_train_batch_end` time: 1.2646s). Check your callbacks.\n",
      "4/4 [==============================] - ETA: 0s - loss: 0.7039\n",
      "Epoch 00001: val_loss improved from inf to 0.99761, saving model to weights.h5\n",
      "4/4 [==============================] - 3s 754ms/step - loss: 0.7039 - val_loss: 0.9976\n",
      "Epoch 2/50\n",
      "4/4 [==============================] - ETA: 0s - loss: 0.3191\n",
      "Epoch 00002: val_loss did not improve from 0.99761\n",
      "4/4 [==============================] - 1s 209ms/step - loss: 0.3191 - val_loss: 1.3141\n",
      "Epoch 3/50\n",
      "4/4 [==============================] - ETA: 0s - loss: 0.2830\n",
      "Epoch 00003: val_loss improved from 0.99761 to 0.97574, saving model to weights.h5\n",
      "4/4 [==============================] - 1s 210ms/step - loss: 0.2830 - val_loss: 0.9757\n",
      "Epoch 4/50\n",
      "4/4 [==============================] - ETA: 0s - loss: 0.2426\n",
      "Epoch 00004: val_loss improved from 0.97574 to 0.73997, saving model to weights.h5\n",
      "4/4 [==============================] - 1s 214ms/step - loss: 0.2426 - val_loss: 0.7400\n",
      "Epoch 5/50\n",
      "4/4 [==============================] - ETA: 0s - loss: 0.2098\n",
      "Epoch 00005: val_loss improved from 0.73997 to 0.73978, saving model to weights.h5\n",
      "4/4 [==============================] - 1s 209ms/step - loss: 0.2098 - val_loss: 0.7398\n",
      "Epoch 6/50\n",
      "4/4 [==============================] - ETA: 0s - loss: 0.1961\n",
      "Epoch 00006: val_loss did not improve from 0.73978\n",
      "4/4 [==============================] - 1s 202ms/step - loss: 0.1961 - val_loss: 0.7811\n",
      "Epoch 7/50\n",
      "4/4 [==============================] - ETA: 0s - loss: 0.1671\n",
      "Epoch 00007: val_loss did not improve from 0.73978\n",
      "4/4 [==============================] - 1s 198ms/step - loss: 0.1671 - val_loss: 1.1990\n",
      "Epoch 8/50\n",
      "4/4 [==============================] - ETA: 0s - loss: 0.1152\n",
      "Epoch 00008: val_loss did not improve from 0.73978\n",
      "4/4 [==============================] - 1s 193ms/step - loss: 0.1152 - val_loss: 1.7927\n",
      "Epoch 9/50\n",
      "4/4 [==============================] - ETA: 0s - loss: 0.0988\n",
      "Epoch 00009: val_loss did not improve from 0.73978\n",
      "4/4 [==============================] - 1s 194ms/step - loss: 0.0988 - val_loss: 1.3540\n",
      "Epoch 10/50\n",
      "4/4 [==============================] - ETA: 0s - loss: 0.0752\n",
      "Epoch 00010: val_loss did not improve from 0.73978\n",
      "4/4 [==============================] - 1s 183ms/step - loss: 0.0752 - val_loss: 1.1212\n",
      "Epoch 11/50\n",
      "4/4 [==============================] - ETA: 0s - loss: 0.0683\n",
      "Epoch 00011: val_loss did not improve from 0.73978\n",
      "4/4 [==============================] - 1s 181ms/step - loss: 0.0683 - val_loss: 0.9855\n",
      "Epoch 12/50\n",
      "4/4 [==============================] - ETA: 0s - loss: 0.0667\n",
      "Epoch 00012: val_loss did not improve from 0.73978\n",
      "4/4 [==============================] - 1s 181ms/step - loss: 0.0667 - val_loss: 1.0000\n",
      "Epoch 13/50\n",
      "4/4 [==============================] - ETA: 0s - loss: 0.0539\n",
      "Epoch 00013: val_loss did not improve from 0.73978\n",
      "4/4 [==============================] - 1s 177ms/step - loss: 0.0539 - val_loss: 1.0680\n",
      "Epoch 14/50\n",
      "4/4 [==============================] - ETA: 0s - loss: 0.0452\n",
      "Epoch 00014: val_loss did not improve from 0.73978\n",
      "4/4 [==============================] - 1s 179ms/step - loss: 0.0452 - val_loss: 1.1480\n",
      "Epoch 15/50\n",
      "4/4 [==============================] - ETA: 0s - loss: 0.0379\n",
      "Epoch 00015: ReduceLROnPlateau reducing learning rate to 0.0005000000237487257.\n",
      "\n",
      "Epoch 00015: val_loss did not improve from 0.73978\n",
      "4/4 [==============================] - 1s 181ms/step - loss: 0.0379 - val_loss: 1.1386\n",
      "Epoch 00015: early stopping\n",
      "CPU times: user 43.9 s, sys: 28.7 s, total: 1min 12s\n",
      "Wall time: 21.9 s\n"
     ]
    }
   ],
   "source": [
    "%%time\n",
    "es = EarlyStopping(monitor='val_loss', min_delta=1e-10, patience=10, verbose=1)\n",
    "rlr = ReduceLROnPlateau(monitor='val_loss', factor=0.5, patience=10, verbose=1)\n",
    "mcp = ModelCheckpoint(filepath='weights.h5', monitor='val_loss', verbose=1, save_best_only=True, save_weights_only=True)\n",
    "\n",
    "tb = TensorBoard('logs')\n",
    "\n",
    "history = model.fit(X_train, y_train, shuffle=True, epochs=50, callbacks=[es, rlr, mcp, tb], validation_split=0.2, verbose=1, batch_size=256)\n"
   ]
  },
  {
   "cell_type": "code",
   "execution_count": 71,
   "id": "continuous-customer",
   "metadata": {},
   "outputs": [],
   "source": [
    "# Generate list of sequence of days for predictions\n",
    "datelist_future = pd.date_range(datelist_train[-1], periods=n_future, freq='1d').tolist()\n",
    "\n",
    "'''\n",
    "Remeber, we have datelist_train from begining.\n",
    "'''\n",
    "\n",
    "# Convert Pandas Timestamp to Datetime object (for transformation) --> FUTURE\n",
    "datelist_future_ = []\n",
    "for this_timestamp in datelist_future:\n",
    "    datelist_future_.append(this_timestamp.date())\n"
   ]
  },
  {
   "cell_type": "code",
   "execution_count": 72,
   "id": "whole-clock",
   "metadata": {},
   "outputs": [],
   "source": [
    "\n",
    "# Perform predictions\n",
    "predictions_future = model.predict(X_train[-n_future:])\n",
    "\n",
    "predictions_train = model.predict(X_train[n_past:])"
   ]
  },
  {
   "cell_type": "code",
   "execution_count": 73,
   "id": "employed-martial",
   "metadata": {},
   "outputs": [
    {
     "data": {
      "text/html": [
       "<div>\n",
       "<style scoped>\n",
       "    .dataframe tbody tr th:only-of-type {\n",
       "        vertical-align: middle;\n",
       "    }\n",
       "\n",
       "    .dataframe tbody tr th {\n",
       "        vertical-align: top;\n",
       "    }\n",
       "\n",
       "    .dataframe thead th {\n",
       "        text-align: right;\n",
       "    }\n",
       "</style>\n",
       "<table border=\"1\" class=\"dataframe\">\n",
       "  <thead>\n",
       "    <tr style=\"text-align: right;\">\n",
       "      <th></th>\n",
       "      <th>Close</th>\n",
       "    </tr>\n",
       "  </thead>\n",
       "  <tbody>\n",
       "    <tr>\n",
       "      <th>2016-09-26</th>\n",
       "      <td>5.631549</td>\n",
       "    </tr>\n",
       "    <tr>\n",
       "      <th>2016-09-27</th>\n",
       "      <td>6.109632</td>\n",
       "    </tr>\n",
       "    <tr>\n",
       "      <th>2016-09-28</th>\n",
       "      <td>5.990811</td>\n",
       "    </tr>\n",
       "    <tr>\n",
       "      <th>2016-09-29</th>\n",
       "      <td>5.896537</td>\n",
       "    </tr>\n",
       "    <tr>\n",
       "      <th>2016-09-30</th>\n",
       "      <td>5.817658</td>\n",
       "    </tr>\n",
       "    <tr>\n",
       "      <th>...</th>\n",
       "      <td>...</td>\n",
       "    </tr>\n",
       "    <tr>\n",
       "      <th>2020-12-28</th>\n",
       "      <td>48.997963</td>\n",
       "    </tr>\n",
       "    <tr>\n",
       "      <th>2020-12-29</th>\n",
       "      <td>49.536217</td>\n",
       "    </tr>\n",
       "    <tr>\n",
       "      <th>2020-12-30</th>\n",
       "      <td>49.129772</td>\n",
       "    </tr>\n",
       "    <tr>\n",
       "      <th>2020-12-31</th>\n",
       "      <td>49.764805</td>\n",
       "    </tr>\n",
       "    <tr>\n",
       "      <th>2021-01-04</th>\n",
       "      <td>48.113560</td>\n",
       "    </tr>\n",
       "  </tbody>\n",
       "</table>\n",
       "<p>1076 rows × 1 columns</p>\n",
       "</div>"
      ],
      "text/plain": [
       "                Close\n",
       "2016-09-26   5.631549\n",
       "2016-09-27   6.109632\n",
       "2016-09-28   5.990811\n",
       "2016-09-29   5.896537\n",
       "2016-09-30   5.817658\n",
       "...               ...\n",
       "2020-12-28  48.997963\n",
       "2020-12-29  49.536217\n",
       "2020-12-30  49.129772\n",
       "2020-12-31  49.764805\n",
       "2021-01-04  48.113560\n",
       "\n",
       "[1076 rows x 1 columns]"
      ]
     },
     "execution_count": 73,
     "metadata": {},
     "output_type": "execute_result"
    }
   ],
   "source": [
    "# Inverse the predictions to original measurements\n",
    "\n",
    "# ---> Special function: convert <datetime.date> to <Timestamp>\n",
    "def datetime_to_timestamp(x):\n",
    "    '''\n",
    "        x : a given datetime value (datetime.date)\n",
    "    '''\n",
    "    return datetime.strptime(x.strftime('%Y%m%d'), '%Y%m%d')\n",
    "\n",
    "\n",
    "y_pred_future = sc_predict.inverse_transform(predictions_future)\n",
    "y_pred_train = sc_predict.inverse_transform(predictions_train)\n",
    "\n",
    "PREDICTIONS_FUTURE = pd.DataFrame(y_pred_future, columns=['Close']).set_index(pd.Series(datelist_future))\n",
    "PREDICTION_TRAIN = pd.DataFrame(y_pred_train, columns=['Close']).set_index(pd.Series(datelist_train[2 * n_past + n_future -1:]))\n",
    "\n",
    "# Convert <datetime.date> to <Timestamp> for PREDCITION_TRAIN\n",
    "PREDICTION_TRAIN.index = PREDICTION_TRAIN.index.to_series().apply(datetime_to_timestamp)\n",
    "\n",
    "PREDICTION_TRAIN.head(10000)"
   ]
  },
  {
   "cell_type": "code",
   "execution_count": 74,
   "id": "sticky-framing",
   "metadata": {},
   "outputs": [],
   "source": [
    "# Parse training set timestamp for better visualization\n",
    "dataset_train = pd.DataFrame(dataset_train, columns=cols)\n",
    "dataset_train.index = datelist_train\n",
    "dataset_train.index = pd.to_datetime(dataset_train.index)"
   ]
  },
  {
   "cell_type": "code",
   "execution_count": 75,
   "id": "vocational-implementation",
   "metadata": {
    "scrolled": true
   },
   "outputs": [
    {
     "data": {
      "image/png": "[encoded data removed]",
      "text/plain": [
       "<Figure size 1008x360 with 1 Axes>"
      ]
     },
     "metadata": {
      "needs_background": "light"
     },
     "output_type": "display_data"
    }
   ],
   "source": [
    "# Set plot size \n",
    "from pylab import rcParams\n",
    "rcParams['figure.figsize'] = 14, 5\n",
    "\n",
    "# Plot parameters\n",
    "START_DATE_FOR_PLOTTING =  '2021-01-01'\n",
    "\n",
    "plt.plot(PREDICTIONS_FUTURE.index, PREDICTIONS_FUTURE['Close'], color='r', label='Predicted Stock Price')\n",
    "plt.plot(PREDICTION_TRAIN.loc[START_DATE_FOR_PLOTTING:].index, PREDICTION_TRAIN.loc[START_DATE_FOR_PLOTTING:]['Close'], color='orange', label='Training predictions')\n",
    "plt.plot(dataset_train.loc[START_DATE_FOR_PLOTTING:].index, dataset_train.loc[START_DATE_FOR_PLOTTING:]['Close'], color='b', label='Actual Stock Price')\n",
    "\n",
    "plt.axvline(x = min(PREDICTIONS_FUTURE.index), color='green', linewidth=2, linestyle='--')\n",
    "\n",
    "plt.grid(which='major', color='#cccccc', alpha=0.5)\n",
    "\n",
    "plt.legend(shadow=True)\n",
    "plt.title('Predcitions and Acutal Stock Prices', family='Arial', fontsize=12)\n",
    "plt.xlabel('Timeline', family='Arial', fontsize=10)\n",
    "plt.ylabel('Stock Price Value', family='Arial', fontsize=10)\n",
    "plt.xticks(rotation=45, fontsize=8)\n",
    "plt.show()"
   ]
  },
  {
   "cell_type": "code",
   "execution_count": 76,
   "id": "alpine-federation",
   "metadata": {},
   "outputs": [],
   "source": [
    "import csv\n",
    "\n",
    "\n",
    "PREDICTIONS_FUTURE.to_csv('Prediction_SimpleRNN_AMD_5Year.csv',index=False)"
   ]
  },
  {
   "cell_type": "code",
   "execution_count": null,
   "id": "southeast-renewal",
   "metadata": {},
   "outputs": [],
   "source": []
  },
  {
   "cell_type": "code",
   "execution_count": null,
   "id": "turkish-testimony",
   "metadata": {},
   "outputs": [],
   "source": []
  },
  {
   "cell_type": "code",
   "execution_count": null,
   "id": "present-seafood",
   "metadata": {},
   "outputs": [],
   "source": []
  },
  {
   "cell_type": "code",
   "execution_count": null,
   "id": "young-royal",
   "metadata": {},
   "outputs": [],
   "source": []
  },
  {
   "cell_type": "code",
   "execution_count": null,
   "id": "awful-apple",
   "metadata": {},
   "outputs": [],
   "source": []
  }
 ],
 "metadata": {
  "kernelspec": {
   "display_name": "Python 3",
   "language": "python",
   "name": "python3"
  },
  "language_info": {
   "codemirror_mode": {
    "name": "ipython",
    "version": 3
   },
   "file_extension": ".py",
   "mimetype": "text/x-python",
   "name": "python",
   "nbconvert_exporter": "python",
   "pygments_lexer": "ipython3",
   "version": "3.8.5"
  }
 },
 "nbformat": 4,
 "nbformat_minor": 5
}
