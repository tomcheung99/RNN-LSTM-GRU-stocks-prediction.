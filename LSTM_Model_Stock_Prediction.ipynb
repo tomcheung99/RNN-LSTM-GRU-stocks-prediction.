{
 "cells": [
  {
   "cell_type": "code",
   "execution_count": 80,
   "id": "aboriginal-vitamin",
   "metadata": {},
   "outputs": [],
   "source": [
    "\n",
    "# Import modules and packages\n",
    "import numpy as np\n",
    "import pandas as pd\n",
    "import matplotlib.pyplot as plt\n",
    "import datetime as dt\n",
    "from datetime import datetime\n",
    "\n",
    "from keras.callbacks import EarlyStopping, ReduceLROnPlateau, ModelCheckpoint, TensorBoard\n",
    "\n",
    "%matplotlib inline"
   ]
  },
  {
   "cell_type": "code",
   "execution_count": 81,
   "id": "constant-wallpaper",
   "metadata": {},
   "outputs": [
    {
     "name": "stdout",
     "output_type": "stream",
     "text": [
      "Training set shape == (2770, 7)\n",
      "All timestamps == 2770\n",
      "Featured selected: ['Open', 'High', 'Low', 'Close', 'Adj Close']\n"
     ]
    }
   ],
   "source": [
    "dataset_train = pd.read_csv('INTC_Dataset/INTC2010-2021.csv')\n",
    "\n",
    "cols = list(dataset_train)[1:6]\n",
    "# Select features (columns) to be involved intro training and predictions\n",
    "cols = list(dataset_train)[1:6]\n",
    "\n",
    "# Extract dates (will be used in visualization)\n",
    "datelist_train = list(dataset_train['Date'])\n",
    "datelist_train = [dt.datetime.strptime(date, '%Y-%m-%d').date() \n",
    "                  for date in datelist_train]\n",
    "\n",
    "print('Training set shape == {}'.format(dataset_train.shape))\n",
    "print('All timestamps == {}'.format(len(datelist_train)))\n",
    "print('Featured selected: {}'.format(cols))"
   ]
  },
  {
   "cell_type": "code",
   "execution_count": 82,
   "id": "nonprofit-japan",
   "metadata": {},
   "outputs": [
    {
     "name": "stdout",
     "output_type": "stream",
     "text": [
      "Shape of training set == (2770, 5).\n"
     ]
    },
    {
     "data": {
      "text/plain": [
       "array([[20.790001, 21.030001, 20.73    , 20.879999, 14.86447 ],\n",
       "       [20.940001, 20.99    , 20.6     , 20.870001, 14.857353],\n",
       "       [20.809999, 20.93    , 20.67    , 20.799999, 14.807525],\n",
       "       ...,\n",
       "       [49.110001, 49.189999, 48.560001, 48.75    , 48.455875],\n",
       "       [48.75    , 50.189999, 48.720001, 49.82    , 49.519421],\n",
       "       [49.889999, 51.389999, 49.400002, 49.669998, 49.370323]])"
      ]
     },
     "execution_count": 82,
     "metadata": {},
     "output_type": "execute_result"
    }
   ],
   "source": [
    "dataset_train = dataset_train[cols].astype(str)\n",
    "for i in cols:\n",
    "    for j in range(0, len(dataset_train)):\n",
    "        dataset_train[i][j] = dataset_train[i][j].replace(',', '')\n",
    "\n",
    "dataset_train = dataset_train.astype(float)\n",
    "\n",
    "# Using multiple features (predictors)\n",
    "training_set = dataset_train.values\n",
    "\n",
    "print('Shape of training set == {}.'.format(training_set.shape))\n",
    "training_set"
   ]
  },
  {
   "cell_type": "code",
   "execution_count": 83,
   "id": "through-dublin",
   "metadata": {},
   "outputs": [
    {
     "data": {
      "text/plain": [
       "array([[-1.12359361],\n",
       "       [-1.11131971],\n",
       "       [-1.12195725],\n",
       "       ...,\n",
       "       [ 1.19371713],\n",
       "       [ 1.16425971],\n",
       "       [ 1.2575412 ]])"
      ]
     },
     "execution_count": 83,
     "metadata": {},
     "output_type": "execute_result"
    }
   ],
   "source": [
    "\n",
    "# Feature Scaling\n",
    "from sklearn.preprocessing import StandardScaler\n",
    "\n",
    "sc = StandardScaler()\n",
    "training_set_scaled = sc.fit_transform(training_set)\n",
    "\n",
    "sc_predict = StandardScaler()\n",
    "sc_predict.fit_transform(training_set[:, 0:1])"
   ]
  },
  {
   "cell_type": "code",
   "execution_count": 84,
   "id": "mexican-reduction",
   "metadata": {},
   "outputs": [
    {
     "name": "stdout",
     "output_type": "stream",
     "text": [
      "X_train shape == (2676, 90, 4).\n",
      "y_train shape == (2676, 1).\n"
     ]
    }
   ],
   "source": [
    "# Creating a data structure with 90 timestamps and 1 output\n",
    "X_train = []\n",
    "y_train = []\n",
    "\n",
    "n_future = 5   # Number of days we want top predict into the future\n",
    "n_past = 90     # Number of past days we want to use to predict the future\n",
    "\n",
    "for i in range(n_past, len(training_set_scaled) - n_future +1):\n",
    "    X_train.append(training_set_scaled[i - n_past:i, 0:dataset_train.shape[1] - 1])\n",
    "    y_train.append(training_set_scaled[i + n_future - 1:i + n_future, 0])\n",
    "\n",
    "X_train, y_train = np.array(X_train), np.array(y_train)\n",
    "\n",
    "print('X_train shape == {}.'.format(X_train.shape))\n",
    "print('y_train shape == {}.'.format(y_train.shape))"
   ]
  },
  {
   "cell_type": "code",
   "execution_count": 85,
   "id": "higher-bidder",
   "metadata": {},
   "outputs": [],
   "source": [
    "\n",
    "# Import Libraries and packages from Keras\n",
    "from keras.models import Sequential\n",
    "from keras.layers import Dense\n",
    "from keras.layers import LSTM\n",
    "from keras.layers import Dropout\n",
    "from keras.optimizers import Adam"
   ]
  },
  {
   "cell_type": "code",
   "execution_count": 86,
   "id": "efficient-dimension",
   "metadata": {},
   "outputs": [],
   "source": [
    "\n",
    "# Initializing the Neural Network based on LSTM\n",
    "model = Sequential()\n",
    "\n",
    "# Adding 1st LSTM layer units=64\n",
    "model.add(LSTM(units=50, return_sequences=True, input_shape=(n_past, dataset_train.shape[1]-1)))\n",
    "\n",
    "# Adding 2nd LSTM layer units=10\n",
    "\n",
    "model.add(LSTM(units=50, return_sequences=True))\n",
    "\n",
    "model.add(LSTM(units=50, return_sequences=True))\n",
    "\n",
    "model.add(LSTM(units=50, return_sequences=False))\n",
    "\n",
    "\n",
    "# Adding Dropout\n",
    "model.add(Dropout(0.25))\n",
    "\n",
    "# Output layer\n",
    "model.add(Dense(units=1, activation='linear'))\n",
    "\n",
    "# Compiling the Neural Network\n",
    "model.compile(optimizer = Adam(learning_rate=0.001), loss='mean_squared_error')"
   ]
  },
  {
   "cell_type": "code",
   "execution_count": 87,
   "id": "weird-wales",
   "metadata": {
    "scrolled": true
   },
   "outputs": [
    {
     "name": "stdout",
     "output_type": "stream",
     "text": [
      "Epoch 1/50\n",
      "2/9 [=====>........................] - ETA: 4s - loss: 0.5637WARNING:tensorflow:Callbacks method `on_train_batch_end` is slow compared to the batch time (batch time: 0.3850s vs `on_train_batch_end` time: 1.0122s). Check your callbacks.\n",
      "9/9 [==============================] - ETA: 0s - loss: 0.2746\n",
      "Epoch 00001: val_loss improved from inf to 0.41566, saving model to weights.h5\n",
      "9/9 [==============================] - 5s 567ms/step - loss: 0.2746 - val_loss: 0.4157\n",
      "Epoch 2/50\n",
      "9/9 [==============================] - ETA: 0s - loss: 0.0596\n",
      "Epoch 00002: val_loss improved from 0.41566 to 0.16509, saving model to weights.h5\n",
      "9/9 [==============================] - 3s 320ms/step - loss: 0.0596 - val_loss: 0.1651\n",
      "Epoch 3/50\n",
      "9/9 [==============================] - ETA: 0s - loss: 0.0448\n",
      "Epoch 00003: val_loss did not improve from 0.16509\n",
      "9/9 [==============================] - 3s 313ms/step - loss: 0.0448 - val_loss: 0.3789\n",
      "Epoch 4/50\n",
      "9/9 [==============================] - ETA: 0s - loss: 0.0353\n",
      "Epoch 00004: val_loss did not improve from 0.16509\n",
      "9/9 [==============================] - 3s 312ms/step - loss: 0.0353 - val_loss: 0.1812\n",
      "Epoch 5/50\n",
      "9/9 [==============================] - ETA: 0s - loss: 0.0289\n",
      "Epoch 00005: val_loss did not improve from 0.16509\n",
      "9/9 [==============================] - 3s 333ms/step - loss: 0.0289 - val_loss: 0.1730\n",
      "Epoch 6/50\n",
      "9/9 [==============================] - ETA: 0s - loss: 0.0266\n",
      "Epoch 00006: val_loss did not improve from 0.16509\n",
      "9/9 [==============================] - 3s 334ms/step - loss: 0.0266 - val_loss: 0.1798\n",
      "Epoch 7/50\n",
      "9/9 [==============================] - ETA: 0s - loss: 0.0241\n",
      "Epoch 00007: val_loss improved from 0.16509 to 0.13326, saving model to weights.h5\n",
      "9/9 [==============================] - 3s 321ms/step - loss: 0.0241 - val_loss: 0.1333\n",
      "Epoch 8/50\n",
      "9/9 [==============================] - ETA: 0s - loss: 0.0237\n",
      "Epoch 00008: val_loss did not improve from 0.13326\n",
      "9/9 [==============================] - 3s 320ms/step - loss: 0.0237 - val_loss: 0.1475\n",
      "Epoch 9/50\n",
      "9/9 [==============================] - ETA: 0s - loss: 0.0225\n",
      "Epoch 00009: val_loss improved from 0.13326 to 0.12515, saving model to weights.h5\n",
      "9/9 [==============================] - 3s 316ms/step - loss: 0.0225 - val_loss: 0.1251\n",
      "Epoch 10/50\n",
      "9/9 [==============================] - ETA: 0s - loss: 0.0222\n",
      "Epoch 00010: val_loss did not improve from 0.12515\n",
      "9/9 [==============================] - 3s 314ms/step - loss: 0.0222 - val_loss: 0.1416\n",
      "Epoch 11/50\n",
      "9/9 [==============================] - ETA: 0s - loss: 0.0212\n",
      "Epoch 00011: val_loss did not improve from 0.12515\n",
      "9/9 [==============================] - 3s 322ms/step - loss: 0.0212 - val_loss: 0.1298\n",
      "Epoch 12/50\n",
      "9/9 [==============================] - ETA: 0s - loss: 0.0210\n",
      "Epoch 00012: val_loss did not improve from 0.12515\n",
      "9/9 [==============================] - 3s 317ms/step - loss: 0.0210 - val_loss: 0.1415\n",
      "Epoch 13/50\n",
      "9/9 [==============================] - ETA: 0s - loss: 0.0222\n",
      "Epoch 00013: val_loss improved from 0.12515 to 0.12431, saving model to weights.h5\n",
      "9/9 [==============================] - 3s 325ms/step - loss: 0.0222 - val_loss: 0.1243\n",
      "Epoch 14/50\n",
      "9/9 [==============================] - ETA: 0s - loss: 0.0207\n",
      "Epoch 00014: val_loss did not improve from 0.12431\n",
      "9/9 [==============================] - 3s 331ms/step - loss: 0.0207 - val_loss: 0.1292\n",
      "Epoch 15/50\n",
      "9/9 [==============================] - ETA: 0s - loss: 0.0209\n",
      "Epoch 00015: val_loss did not improve from 0.12431\n",
      "9/9 [==============================] - 3s 301ms/step - loss: 0.0209 - val_loss: 0.1311\n",
      "Epoch 16/50\n",
      "9/9 [==============================] - ETA: 0s - loss: 0.0210\n",
      "Epoch 00016: val_loss did not improve from 0.12431\n",
      "9/9 [==============================] - 3s 320ms/step - loss: 0.0210 - val_loss: 0.1628\n",
      "Epoch 17/50\n",
      "9/9 [==============================] - ETA: 0s - loss: 0.0197\n",
      "Epoch 00017: val_loss improved from 0.12431 to 0.12280, saving model to weights.h5\n",
      "9/9 [==============================] - 3s 371ms/step - loss: 0.0197 - val_loss: 0.1228\n",
      "Epoch 18/50\n",
      "9/9 [==============================] - ETA: 0s - loss: 0.0203\n",
      "Epoch 00018: val_loss did not improve from 0.12280\n",
      "9/9 [==============================] - 4s 424ms/step - loss: 0.0203 - val_loss: 0.1353\n",
      "Epoch 19/50\n",
      "9/9 [==============================] - ETA: 0s - loss: 0.0204\n",
      "Epoch 00019: val_loss did not improve from 0.12280\n",
      "9/9 [==============================] - 4s 472ms/step - loss: 0.0204 - val_loss: 0.1258\n",
      "Epoch 20/50\n",
      "9/9 [==============================] - ETA: 0s - loss: 0.0199\n",
      "Epoch 00020: val_loss did not improve from 0.12280\n",
      "9/9 [==============================] - 5s 526ms/step - loss: 0.0199 - val_loss: 0.1269\n",
      "Epoch 21/50\n",
      "9/9 [==============================] - ETA: 0s - loss: 0.0203\n",
      "Epoch 00021: val_loss did not improve from 0.12280\n",
      "9/9 [==============================] - 5s 571ms/step - loss: 0.0203 - val_loss: 0.1297\n",
      "Epoch 22/50\n",
      "9/9 [==============================] - ETA: 0s - loss: 0.0198\n",
      "Epoch 00022: val_loss improved from 0.12280 to 0.11567, saving model to weights.h5\n",
      "9/9 [==============================] - 5s 596ms/step - loss: 0.0198 - val_loss: 0.1157\n",
      "Epoch 23/50\n",
      "9/9 [==============================] - ETA: 0s - loss: 0.0199\n",
      "Epoch 00023: val_loss did not improve from 0.11567\n",
      "9/9 [==============================] - 5s 592ms/step - loss: 0.0199 - val_loss: 0.1375\n",
      "Epoch 24/50\n",
      "9/9 [==============================] - ETA: 0s - loss: 0.0210\n",
      "Epoch 00024: val_loss did not improve from 0.11567\n",
      "9/9 [==============================] - 5s 595ms/step - loss: 0.0210 - val_loss: 0.1675\n",
      "Epoch 25/50\n",
      "9/9 [==============================] - ETA: 0s - loss: 0.0213\n",
      "Epoch 00025: val_loss did not improve from 0.11567\n",
      "9/9 [==============================] - 5s 553ms/step - loss: 0.0213 - val_loss: 0.1310\n",
      "Epoch 26/50\n",
      "9/9 [==============================] - ETA: 0s - loss: 0.0201\n",
      "Epoch 00026: val_loss did not improve from 0.11567\n",
      "9/9 [==============================] - 5s 518ms/step - loss: 0.0201 - val_loss: 0.1317\n",
      "Epoch 27/50\n",
      "9/9 [==============================] - ETA: 0s - loss: 0.0206\n",
      "Epoch 00027: val_loss did not improve from 0.11567\n",
      "9/9 [==============================] - 4s 485ms/step - loss: 0.0206 - val_loss: 0.1607\n",
      "Epoch 28/50\n",
      "9/9 [==============================] - ETA: 0s - loss: 0.0190\n",
      "Epoch 00028: val_loss did not improve from 0.11567\n",
      "9/9 [==============================] - 4s 446ms/step - loss: 0.0190 - val_loss: 0.1174\n",
      "Epoch 29/50\n",
      "9/9 [==============================] - ETA: 0s - loss: 0.0201\n",
      "Epoch 00029: val_loss did not improve from 0.11567\n",
      "9/9 [==============================] - 4s 430ms/step - loss: 0.0201 - val_loss: 0.1213\n",
      "Epoch 30/50\n",
      "9/9 [==============================] - ETA: 0s - loss: 0.0191\n",
      "Epoch 00030: val_loss did not improve from 0.11567\n",
      "9/9 [==============================] - 4s 408ms/step - loss: 0.0191 - val_loss: 0.1248\n",
      "Epoch 31/50\n",
      "9/9 [==============================] - ETA: 0s - loss: 0.0178\n",
      "Epoch 00031: val_loss did not improve from 0.11567\n",
      "9/9 [==============================] - 4s 392ms/step - loss: 0.0178 - val_loss: 0.1259\n",
      "Epoch 32/50\n",
      "9/9 [==============================] - ETA: 0s - loss: 0.0192\n",
      "Epoch 00032: ReduceLROnPlateau reducing learning rate to 0.0005000000237487257.\n",
      "\n",
      "Epoch 00032: val_loss did not improve from 0.11567\n",
      "9/9 [==============================] - 3s 383ms/step - loss: 0.0192 - val_loss: 0.1296\n",
      "Epoch 00032: early stopping\n",
      "CPU times: user 4min 50s, sys: 3min 37s, total: 8min 27s\n",
      "Wall time: 2min 17s\n"
     ]
    }
   ],
   "source": [
    "%%time\n",
    "es = EarlyStopping(monitor='val_loss', min_delta=1e-10, patience=10, verbose=1)\n",
    "rlr = ReduceLROnPlateau(monitor='val_loss', factor=0.5, patience=10, verbose=1)\n",
    "mcp = ModelCheckpoint(filepath='weights.h5', monitor='val_loss', verbose=1, save_best_only=True, save_weights_only=True)\n",
    "\n",
    "tb = TensorBoard('logs')\n",
    "\n",
    "history = model.fit(X_train, y_train, shuffle=True, epochs=50, callbacks=[es, rlr, mcp, tb], validation_split=0.2, verbose=1, batch_size=256)\n"
   ]
  },
  {
   "cell_type": "code",
   "execution_count": null,
   "id": "following-class",
   "metadata": {},
   "outputs": [],
   "source": []
  },
  {
   "cell_type": "code",
   "execution_count": 89,
   "id": "continuous-customer",
   "metadata": {},
   "outputs": [],
   "source": [
    "# Generate list of sequence of days for predictions\n",
    "datelist_future = pd.date_range(datelist_train[-1], periods=n_future, freq='1d').tolist()\n",
    "\n",
    "'''\n",
    "Remeber, we have datelist_train from begining.\n",
    "'''\n",
    "\n",
    "# Convert Pandas Timestamp to Datetime object (for transformation) --> FUTURE\n",
    "datelist_future_ = []\n",
    "for this_timestamp in datelist_future:\n",
    "    datelist_future_.append(this_timestamp.date()) \n"
   ]
  },
  {
   "cell_type": "code",
   "execution_count": 90,
   "id": "whole-clock",
   "metadata": {},
   "outputs": [],
   "source": [
    "\n",
    "# Perform predictions\n",
    "predictions_future = model.predict(X_train[-n_future:])\n",
    "\n",
    "predictions_train = model.predict(X_train[n_past:])"
   ]
  },
  {
   "cell_type": "code",
   "execution_count": 91,
   "id": "employed-martial",
   "metadata": {},
   "outputs": [
    {
     "data": {
      "text/html": [
       "<div>\n",
       "<style scoped>\n",
       "    .dataframe tbody tr th:only-of-type {\n",
       "        vertical-align: middle;\n",
       "    }\n",
       "\n",
       "    .dataframe tbody tr th {\n",
       "        vertical-align: top;\n",
       "    }\n",
       "\n",
       "    .dataframe thead th {\n",
       "        text-align: right;\n",
       "    }\n",
       "</style>\n",
       "<table border=\"1\" class=\"dataframe\">\n",
       "  <thead>\n",
       "    <tr style=\"text-align: right;\">\n",
       "      <th></th>\n",
       "      <th>Close</th>\n",
       "    </tr>\n",
       "  </thead>\n",
       "  <tbody>\n",
       "    <tr>\n",
       "      <th>2010-09-27</th>\n",
       "      <td>18.515675</td>\n",
       "    </tr>\n",
       "    <tr>\n",
       "      <th>2010-09-28</th>\n",
       "      <td>18.590658</td>\n",
       "    </tr>\n",
       "    <tr>\n",
       "      <th>2010-09-29</th>\n",
       "      <td>18.676258</td>\n",
       "    </tr>\n",
       "    <tr>\n",
       "      <th>2010-09-30</th>\n",
       "      <td>18.767735</td>\n",
       "    </tr>\n",
       "    <tr>\n",
       "      <th>2010-10-01</th>\n",
       "      <td>18.862850</td>\n",
       "    </tr>\n",
       "    <tr>\n",
       "      <th>...</th>\n",
       "      <td>...</td>\n",
       "    </tr>\n",
       "    <tr>\n",
       "      <th>2020-12-28</th>\n",
       "      <td>49.759205</td>\n",
       "    </tr>\n",
       "    <tr>\n",
       "      <th>2020-12-29</th>\n",
       "      <td>49.892605</td>\n",
       "    </tr>\n",
       "    <tr>\n",
       "      <th>2020-12-30</th>\n",
       "      <td>49.956261</td>\n",
       "    </tr>\n",
       "    <tr>\n",
       "      <th>2020-12-31</th>\n",
       "      <td>49.944466</td>\n",
       "    </tr>\n",
       "    <tr>\n",
       "      <th>2021-01-04</th>\n",
       "      <td>49.860123</td>\n",
       "    </tr>\n",
       "  </tbody>\n",
       "</table>\n",
       "<p>2586 rows × 1 columns</p>\n",
       "</div>"
      ],
      "text/plain": [
       "                Close\n",
       "2010-09-27  18.515675\n",
       "2010-09-28  18.590658\n",
       "2010-09-29  18.676258\n",
       "2010-09-30  18.767735\n",
       "2010-10-01  18.862850\n",
       "...               ...\n",
       "2020-12-28  49.759205\n",
       "2020-12-29  49.892605\n",
       "2020-12-30  49.956261\n",
       "2020-12-31  49.944466\n",
       "2021-01-04  49.860123\n",
       "\n",
       "[2586 rows x 1 columns]"
      ]
     },
     "execution_count": 91,
     "metadata": {},
     "output_type": "execute_result"
    }
   ],
   "source": [
    "# Inverse the predictions to original measurements\n",
    "\n",
    "# ---> Special function: convert <datetime.date> to <Timestamp>\n",
    "def datetime_to_timestamp(x):\n",
    "    '''\n",
    "        x : a given datetime value (datetime.date)\n",
    "    '''\n",
    "    return datetime.strptime(x.strftime('%Y%m%d'), '%Y%m%d')\n",
    "\n",
    "\n",
    "y_pred_future = sc_predict.inverse_transform(predictions_future)\n",
    "y_pred_train = sc_predict.inverse_transform(predictions_train)\n",
    "\n",
    "PREDICTIONS_FUTURE = pd.DataFrame(y_pred_future, columns=['Close']).set_index(pd.Series(datelist_future))\n",
    "PREDICTION_TRAIN = pd.DataFrame(y_pred_train, columns=['Close']).set_index(pd.Series(datelist_train[2 * n_past + n_future -1:]))\n",
    "\n",
    "# Convert <datetime.date> to <Timestamp> for PREDCITION_TRAIN\n",
    "PREDICTION_TRAIN.index = PREDICTION_TRAIN.index.to_series().apply(datetime_to_timestamp)\n",
    "\n",
    "PREDICTION_TRAIN.head(10000)"
   ]
  },
  {
   "cell_type": "code",
   "execution_count": 92,
   "id": "sticky-framing",
   "metadata": {},
   "outputs": [],
   "source": [
    "# Parse training set timestamp for better visualization\n",
    "dataset_train = pd.DataFrame(dataset_train, columns=cols)\n",
    "dataset_train.index = datelist_train\n",
    "dataset_train.index = pd.to_datetime(dataset_train.index)"
   ]
  },
  {
   "cell_type": "code",
   "execution_count": 94,
   "id": "vocational-implementation",
   "metadata": {
    "scrolled": true
   },
   "outputs": [
    {
     "data": {
      "image/png": "[encoded data removed]",
      "text/plain": [
       "<Figure size 1008x360 with 1 Axes>"
      ]
     },
     "metadata": {
      "needs_background": "light"
     },
     "output_type": "display_data"
    }
   ],
   "source": [
    "# Set plot size \n",
    "from pylab import rcParams\n",
    "rcParams['figure.figsize'] = 14, 5\n",
    "\n",
    "# Plot parameters\n",
    "START_DATE_FOR_PLOTTING =  '2010-01-01'\n",
    "\n",
    "plt.plot(PREDICTIONS_FUTURE.index, PREDICTIONS_FUTURE['Close'], color='r', label='Predicted Stock Price')\n",
    "plt.plot(PREDICTION_TRAIN.loc[START_DATE_FOR_PLOTTING:].index, PREDICTION_TRAIN.loc[START_DATE_FOR_PLOTTING:]['Close'], color='orange', label='Training predictions')\n",
    "plt.plot(dataset_train.loc[START_DATE_FOR_PLOTTING:].index, dataset_train.loc[START_DATE_FOR_PLOTTING:]['Close'], color='b', label='Actual Stock Price')\n",
    "\n",
    "plt.axvline(x = min(PREDICTIONS_FUTURE.index), color='green', linewidth=2, linestyle='--')\n",
    "\n",
    "plt.grid(which='major', color='#cccccc', alpha=0.5)\n",
    "\n",
    "plt.legend(shadow=True)\n",
    "plt.title('Predcitions and Acutal Stock Prices', family='Arial', fontsize=12)\n",
    "plt.xlabel('Timeline', family='Arial', fontsize=10)\n",
    "plt.ylabel('Stock Price Value', family='Arial', fontsize=10)\n",
    "plt.xticks(rotation=45, fontsize=8)\n",
    "plt.show()"
   ]
  },
  {
   "cell_type": "code",
   "execution_count": 77,
   "id": "impaired-phase",
   "metadata": {},
   "outputs": [],
   "source": [
    "import csv\n",
    "\n",
    "\n",
    "PREDICTIONS_FUTURE.to_csv('Prediction_LSTM_AMD_5Year.csv',index=False)"
   ]
  },
  {
   "cell_type": "code",
   "execution_count": null,
   "id": "daily-baltimore",
   "metadata": {},
   "outputs": [],
   "source": []
  },
  {
   "cell_type": "code",
   "execution_count": null,
   "id": "described-federal",
   "metadata": {},
   "outputs": [],
   "source": []
  },
  {
   "cell_type": "code",
   "execution_count": null,
   "id": "informational-surgery",
   "metadata": {},
   "outputs": [],
   "source": []
  },
  {
   "cell_type": "code",
   "execution_count": null,
   "id": "cordless-outdoors",
   "metadata": {},
   "outputs": [],
   "source": []
  },
  {
   "cell_type": "code",
   "execution_count": null,
   "id": "modified-flight",
   "metadata": {},
   "outputs": [],
   "source": []
  },
  {
   "cell_type": "code",
   "execution_count": null,
   "id": "lyric-emergency",
   "metadata": {},
   "outputs": [],
   "source": []
  }
 ],
 "metadata": {
  "kernelspec": {
   "display_name": "Python 3",
   "language": "python",
   "name": "python3"
  },
  "language_info": {
   "codemirror_mode": {
    "name": "ipython",
    "version": 3
   },
   "file_extension": ".py",
   "mimetype": "text/x-python",
   "name": "python",
   "nbconvert_exporter": "python",
   "pygments_lexer": "ipython3",
   "version": "3.8.5"
  }
 },
 "nbformat": 4,
 "nbformat_minor": 5
}
