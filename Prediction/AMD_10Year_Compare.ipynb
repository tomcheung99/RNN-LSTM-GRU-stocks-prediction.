{
 "cells": [
  {
   "cell_type": "code",
   "execution_count": 8,
   "metadata": {},
   "outputs": [
    {
     "data": {
      "text/html": [
       "<div>\n",
       "<style scoped>\n",
       "    .dataframe tbody tr th:only-of-type {\n",
       "        vertical-align: middle;\n",
       "    }\n",
       "\n",
       "    .dataframe tbody tr th {\n",
       "        vertical-align: top;\n",
       "    }\n",
       "\n",
       "    .dataframe thead th {\n",
       "        text-align: right;\n",
       "    }\n",
       "</style>\n",
       "<table border=\"1\" class=\"dataframe\">\n",
       "  <thead>\n",
       "    <tr style=\"text-align: right;\">\n",
       "      <th></th>\n",
       "      <th>Close</th>\n",
       "      <th>SimpleRNN_predict</th>\n",
       "      <th>LSTM_predict</th>\n",
       "      <th>GRU_predict</th>\n",
       "    </tr>\n",
       "  </thead>\n",
       "  <tbody>\n",
       "    <tr>\n",
       "      <th>0</th>\n",
       "      <td>92.300003</td>\n",
       "      <td>35.876780</td>\n",
       "      <td>36.456240</td>\n",
       "      <td>46.681590</td>\n",
       "    </tr>\n",
       "    <tr>\n",
       "      <th>1</th>\n",
       "      <td>92.769997</td>\n",
       "      <td>36.866750</td>\n",
       "      <td>36.463413</td>\n",
       "      <td>46.561550</td>\n",
       "    </tr>\n",
       "    <tr>\n",
       "      <th>2</th>\n",
       "      <td>90.330002</td>\n",
       "      <td>36.175755</td>\n",
       "      <td>36.469242</td>\n",
       "      <td>46.436607</td>\n",
       "    </tr>\n",
       "    <tr>\n",
       "      <th>3</th>\n",
       "      <td>95.160004</td>\n",
       "      <td>36.773987</td>\n",
       "      <td>36.474240</td>\n",
       "      <td>46.338882</td>\n",
       "    </tr>\n",
       "    <tr>\n",
       "      <th>4</th>\n",
       "      <td>94.580002</td>\n",
       "      <td>35.944504</td>\n",
       "      <td>36.478870</td>\n",
       "      <td>46.271526</td>\n",
       "    </tr>\n",
       "  </tbody>\n",
       "</table>\n",
       "</div>"
      ],
      "text/plain": [
       "       Close  SimpleRNN_predict  LSTM_predict  GRU_predict\n",
       "0  92.300003          35.876780     36.456240    46.681590\n",
       "1  92.769997          36.866750     36.463413    46.561550\n",
       "2  90.330002          36.175755     36.469242    46.436607\n",
       "3  95.160004          36.773987     36.474240    46.338882\n",
       "4  94.580002          35.944504     36.478870    46.271526"
      ]
     },
     "execution_count": 8,
     "metadata": {},
     "output_type": "execute_result"
    }
   ],
   "source": [
    "import pandas as pd\n",
    "import numpy as np\n",
    "\n",
    "df = pd.read_csv('AMD_Real_Result.csv')\n",
    "df1 = pd.read_csv('Prediction_SimpleRNN_AMD_10Year.csv')\n",
    "df2 = pd.read_csv('Prediction_LSTM_AMD_10Year.csv')\n",
    "df3 = pd.read_csv('Prediction_GRU_AMD_10Year.csv')\n",
    "\n",
    "df['SimpleRNN_predict'] = df1['prediction']\n",
    "df['LSTM_predict'] = df2['prediction']\n",
    "df['GRU_predict'] = df3['prediction']\n",
    "df\n"
   ]
  },
  {
   "cell_type": "code",
   "execution_count": 9,
   "metadata": {},
   "outputs": [],
   "source": [
    "def accuracy(close, rmse):\n",
    "    return ((np.mean(close)-rmse)/np.mean(close))*100"
   ]
  },
  {
   "cell_type": "code",
   "execution_count": 12,
   "metadata": {},
   "outputs": [
    {
     "name": "stdout",
     "output_type": "stream",
     "text": [
      "Arracy % on RealClose :\n",
      "100.0\n",
      "\n",
      "Accuracy % on SimpleRNN :\n",
      "39.024008590086304\n",
      "\n",
      " Accuracy % on LSTM :\n",
      "39.17349099321009\n",
      "\n",
      " Accuracy % on GRU :\n",
      "49.90224777319689\n"
     ]
    }
   ],
   "source": [
    "print('Arracy % on RealClose :')\n",
    "rmse_RealClose=np.sqrt(np.mean((df['Close']-df['Close'])**2))\n",
    "RealClose_accuracy = accuracy(df['Close'],rmse_RealClose)\n",
    "print(RealClose_accuracy)\n",
    "\n",
    "print('\\nAccuracy % on SimpleRNN :')\n",
    "rmse_SimpleRNN=np.sqrt(np.mean((df['SimpleRNN_predict']-df['Close'])**2))\n",
    "SimpleRNN_accuracy = accuracy(df['Close'],rmse_SimpleRNN)\n",
    "print(SimpleRNN_accuracy)\n",
    "\n",
    "print('\\n Accuracy % on LSTM :')\n",
    "rmse_LSTM=np.sqrt(np.mean((df['LSTM_predict']-df['Close'])**2))\n",
    "LSTM_accuracy = accuracy(df['Close'],rmse_LSTM)\n",
    "print(LSTM_accuracy)\n",
    "\n",
    "print('\\n Accuracy % on GRU :')\n",
    "rmse_GRU=np.sqrt(np.mean((df['GRU_predict']-df['Close'])**2))\n",
    "GRU_accuracy = accuracy(df['Close'],rmse_GRU)\n",
    "print(GRU_accuracy)"
   ]
  },
  {
   "cell_type": "code",
   "execution_count": 11,
   "metadata": {},
   "outputs": [
    {
     "data": {
      "text/plain": [
       "<function matplotlib.pyplot.show(close=None, block=None)>"
      ]
     },
     "execution_count": 11,
     "metadata": {},
     "output_type": "execute_result"
    },
    {
     "data": {
      "image/png": "[encoded data removed]",
      "text/plain": [
       "<Figure size 1152x576 with 1 Axes>"
      ]
     },
     "metadata": {
      "needs_background": "light"
     },
     "output_type": "display_data"
    }
   ],
   "source": [
    "import matplotlib.pyplot as plt\n",
    "plt.figure(figsize=(16,8))\n",
    "plt.title('Model')\n",
    "plt.xlabel('Date',fontsize=18)\n",
    "plt.ylabel('close price in $', fontsize=18)\n",
    "plt.plot(df[['Close','SimpleRNN_predict','LSTM_predict','GRU_predict']])\n",
    "plt.legend(['Real_Close','SimpleRNN','LSTM','GRU'],loc='lower right')\n",
    "plt.show"
   ]
  },
  {
   "cell_type": "code",
   "execution_count": null,
   "metadata": {},
   "outputs": [],
   "source": []
  },
  {
   "cell_type": "code",
   "execution_count": null,
   "metadata": {},
   "outputs": [],
   "source": []
  },
  {
   "cell_type": "code",
   "execution_count": null,
   "metadata": {},
   "outputs": [],
   "source": []
  }
 ],
 "metadata": {
  "kernelspec": {
   "display_name": "Python 3",
   "language": "python",
   "name": "python3"
  },
  "language_info": {
   "codemirror_mode": {
    "name": "ipython",
    "version": 3
   },
   "file_extension": ".py",
   "mimetype": "text/x-python",
   "name": "python",
   "nbconvert_exporter": "python",
   "pygments_lexer": "ipython3",
   "version": "3.8.5"
  }
 },
 "nbformat": 4,
 "nbformat_minor": 4
}
