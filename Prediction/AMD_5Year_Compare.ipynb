{
 "cells": [
  {
   "cell_type": "code",
   "execution_count": 1,
   "metadata": {},
   "outputs": [
    {
     "data": {
      "text/html": [
       "<div>\n",
       "<style scoped>\n",
       "    .dataframe tbody tr th:only-of-type {\n",
       "        vertical-align: middle;\n",
       "    }\n",
       "\n",
       "    .dataframe tbody tr th {\n",
       "        vertical-align: top;\n",
       "    }\n",
       "\n",
       "    .dataframe thead th {\n",
       "        text-align: right;\n",
       "    }\n",
       "</style>\n",
       "<table border=\"1\" class=\"dataframe\">\n",
       "  <thead>\n",
       "    <tr style=\"text-align: right;\">\n",
       "      <th></th>\n",
       "      <th>Close</th>\n",
       "      <th>SimpleRNN_predict</th>\n",
       "      <th>LSTM_predict</th>\n",
       "      <th>GRU_predict</th>\n",
       "    </tr>\n",
       "  </thead>\n",
       "  <tbody>\n",
       "    <tr>\n",
       "      <th>0</th>\n",
       "      <td>92.300003</td>\n",
       "      <td>48.997963</td>\n",
       "      <td>69.10488</td>\n",
       "      <td>71.24712</td>\n",
       "    </tr>\n",
       "    <tr>\n",
       "      <th>1</th>\n",
       "      <td>92.769997</td>\n",
       "      <td>49.536217</td>\n",
       "      <td>69.16199</td>\n",
       "      <td>71.31432</td>\n",
       "    </tr>\n",
       "    <tr>\n",
       "      <th>2</th>\n",
       "      <td>90.330002</td>\n",
       "      <td>49.129772</td>\n",
       "      <td>69.21358</td>\n",
       "      <td>71.30320</td>\n",
       "    </tr>\n",
       "    <tr>\n",
       "      <th>3</th>\n",
       "      <td>95.160004</td>\n",
       "      <td>49.764810</td>\n",
       "      <td>69.25911</td>\n",
       "      <td>71.22761</td>\n",
       "    </tr>\n",
       "    <tr>\n",
       "      <th>4</th>\n",
       "      <td>94.580002</td>\n",
       "      <td>48.113550</td>\n",
       "      <td>69.29818</td>\n",
       "      <td>71.11843</td>\n",
       "    </tr>\n",
       "  </tbody>\n",
       "</table>\n",
       "</div>"
      ],
      "text/plain": [
       "       Close  SimpleRNN_predict  LSTM_predict  GRU_predict\n",
       "0  92.300003          48.997963      69.10488     71.24712\n",
       "1  92.769997          49.536217      69.16199     71.31432\n",
       "2  90.330002          49.129772      69.21358     71.30320\n",
       "3  95.160004          49.764810      69.25911     71.22761\n",
       "4  94.580002          48.113550      69.29818     71.11843"
      ]
     },
     "execution_count": 1,
     "metadata": {},
     "output_type": "execute_result"
    }
   ],
   "source": [
    "import pandas as pd\n",
    "import numpy as np\n",
    "\n",
    "df = pd.read_csv('AMD_Real_Result.csv')\n",
    "df1 = pd.read_csv('Prediction_SimpleRNN_AMD_5Year.csv')\n",
    "df2 = pd.read_csv('Prediction_LSTM_AMD_5Year.csv')\n",
    "df3 = pd.read_csv('Prediction_GRU_AMD_5Year.csv')\n",
    "\n",
    "df['SimpleRNN_predict'] = df1['prediction']\n",
    "df['LSTM_predict'] = df2['prediction']\n",
    "df['GRU_predict'] = df3['prediction']\n",
    "df\n"
   ]
  },
  {
   "cell_type": "code",
   "execution_count": 2,
   "metadata": {},
   "outputs": [],
   "source": [
    "def accuracy(close, rmse):\n",
    "    return ((np.mean(close)-rmse)/np.mean(close))*100"
   ]
  },
  {
   "cell_type": "code",
   "execution_count": 3,
   "metadata": {},
   "outputs": [
    {
     "name": "stdout",
     "output_type": "stream",
     "text": [
      "Arracy % on RealClose :\n",
      "100.0\n",
      "\n",
      "Arracy % on SimpleRNN :\n",
      "52.747532973365765\n",
      "\n",
      " Arracy % on LSTM :\n",
      "74.33026531406705\n",
      "\n",
      " Arracy % on GRU :\n",
      "76.50417734214973\n"
     ]
    }
   ],
   "source": [
    "print('Arracy % on RealClose :')\n",
    "rmse_RealClose=np.sqrt(np.mean((df['Close']-df['Close'])**2))\n",
    "RealClose_accuracy = accuracy(df['Close'],rmse_RealClose)\n",
    "print(RealClose_accuracy)\n",
    "\n",
    "print('\\nArracy % on SimpleRNN :')\n",
    "rmse_SimpleRNN=np.sqrt(np.mean((df['SimpleRNN_predict']-df['Close'])**2))\n",
    "SimpleRNN_accuracy = accuracy(df['Close'],rmse_SimpleRNN)\n",
    "print(SimpleRNN_accuracy)\n",
    "\n",
    "print('\\n Arracy % on LSTM :')\n",
    "rmse_LSTM=np.sqrt(np.mean((df['LSTM_predict']-df['Close'])**2))\n",
    "LSTM_accuracy = accuracy(df['Close'],rmse_LSTM)\n",
    "print(LSTM_accuracy)\n",
    "\n",
    "print('\\n Arracy % on GRU :')\n",
    "rmse_GRU=np.sqrt(np.mean((df['GRU_predict']-df['Close'])**2))\n",
    "GRU_accuracy = accuracy(df['Close'],rmse_GRU)\n",
    "print(GRU_accuracy)"
   ]
  },
  {
   "cell_type": "code",
   "execution_count": 4,
   "metadata": {},
   "outputs": [
    {
     "data": {
      "text/plain": [
       "<function matplotlib.pyplot.show(close=None, block=None)>"
      ]
     },
     "execution_count": 4,
     "metadata": {},
     "output_type": "execute_result"
    },
    {
     "data": {
      "image/png": "[encoded data removed]",
      "text/plain": [
       "<Figure size 1152x576 with 1 Axes>"
      ]
     },
     "metadata": {
      "needs_background": "light"
     },
     "output_type": "display_data"
    }
   ],
   "source": [
    "import matplotlib.pyplot as plt\n",
    "plt.figure(figsize=(16,8))\n",
    "plt.title('Model')\n",
    "plt.xlabel('Date',fontsize=18)\n",
    "plt.ylabel('close price in $', fontsize=18)\n",
    "plt.plot(df[['Close','SimpleRNN_predict','LSTM_predict','GRU_predict']])\n",
    "plt.legend(['Real_Close','SimpleRNN','LSTM','GRU'],loc='lower right')\n",
    "plt.show"
   ]
  },
  {
   "cell_type": "code",
   "execution_count": null,
   "metadata": {},
   "outputs": [],
   "source": []
  },
  {
   "cell_type": "code",
   "execution_count": null,
   "metadata": {},
   "outputs": [],
   "source": []
  },
  {
   "cell_type": "code",
   "execution_count": null,
   "metadata": {},
   "outputs": [],
   "source": []
  }
 ],
 "metadata": {
  "kernelspec": {
   "display_name": "Python 3",
   "language": "python",
   "name": "python3"
  },
  "language_info": {
   "codemirror_mode": {
    "name": "ipython",
    "version": 3
   },
   "file_extension": ".py",
   "mimetype": "text/x-python",
   "name": "python",
   "nbconvert_exporter": "python",
   "pygments_lexer": "ipython3",
   "version": "3.8.5"
  }
 },
 "nbformat": 4,
 "nbformat_minor": 4
}
